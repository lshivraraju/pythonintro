{
  "nbformat": 4,
  "nbformat_minor": 0,
  "metadata": {
    "colab": {
      "name": "py_practice1.ipynb",
      "provenance": [],
      "toc_visible": true
    },
    "kernelspec": {
      "name": "python3",
      "display_name": "Python 3"
    },
    "language_info": {
      "name": "python"
    }
  },
  "cells": [
    {
      "cell_type": "code",
      "source": [
        ""
      ],
      "metadata": {
        "id": "nl2eU4mr-dyy"
      },
      "execution_count": null,
      "outputs": []
    },
    {
      "cell_type": "code",
      "execution_count": 2,
      "metadata": {
        "id": "D0x70xtWZ1o_"
      },
      "outputs": [],
      "source": [
        "import pandas as pd\n"
      ]
    },
    {
      "cell_type": "markdown",
      "source": [
        "#read the file "
      ],
      "metadata": {
        "id": "PRpzL43i_J-T"
      }
    },
    {
      "cell_type": "code",
      "source": [
        "df= pd.read_csv(\"/content/Salaries.csv\")\n",
        " "
      ],
      "metadata": {
        "id": "rDW7Bcyz-fdS"
      },
      "execution_count": null,
      "outputs": []
    },
    {
      "cell_type": "markdown",
      "source": [
        "#list the first 5 records"
      ],
      "metadata": {
        "id": "9-bi67X9_Utg"
      }
    },
    {
      "cell_type": "code",
      "source": [
        "df.head\n"
      ],
      "metadata": {
        "id": "AxZZOhoT_S-V"
      },
      "execution_count": null,
      "outputs": []
    },
    {
      "cell_type": "markdown",
      "source": [
        "## getting first 3 rows\n"
      ],
      "metadata": {
        "id": "FSGkVqy8_r3Z"
      }
    },
    {
      "cell_type": "code",
      "source": [
        "df_first3=df.head(3)"
      ],
      "metadata": {
        "id": "A6b4bPXo_rNW"
      },
      "execution_count": 8,
      "outputs": []
    },
    {
      "cell_type": "markdown",
      "source": [
        "# how to excute the total number of element in dataset\n"
      ],
      "metadata": {
        "id": "Uzn_4QASAiW6"
      }
    },
    {
      "cell_type": "code",
      "source": [
        "df.size"
      ],
      "metadata": {
        "colab": {
          "base_uri": "https://localhost:8080/"
        },
        "id": "4BDrSdBNAdhf",
        "outputId": "e20802c1-7a42-41ab-d985-efe6ada14559"
      },
      "execution_count": 9,
      "outputs": [
        {
          "output_type": "execute_result",
          "data": {
            "text/plain": [
              "1932502"
            ]
          },
          "metadata": {},
          "execution_count": 9
        }
      ]
    },
    {
      "cell_type": "markdown",
      "source": [
        "#how to excute the cols name"
      ],
      "metadata": {
        "id": "QXydTVA0A1FT"
      }
    },
    {
      "cell_type": "code",
      "source": [
        "df.columns"
      ],
      "metadata": {
        "colab": {
          "base_uri": "https://localhost:8080/"
        },
        "id": "q2F8r14NAddO",
        "outputId": "999878e9-d2ed-494a-b397-f94c22e37973"
      },
      "execution_count": 10,
      "outputs": [
        {
          "output_type": "execute_result",
          "data": {
            "text/plain": [
              "Index(['Id', 'EmployeeName', 'JobTitle', 'BasePay', 'OvertimePay', 'OtherPay',\n",
              "       'Benefits', 'TotalPay', 'TotalPayBenefits', 'Year', 'Notes', 'Agency',\n",
              "       'Status'],\n",
              "      dtype='object')"
            ]
          },
          "metadata": {},
          "execution_count": 10
        }
      ]
    },
    {
      "cell_type": "markdown",
      "source": [
        "#how to excute list of rows and col name "
      ],
      "metadata": {
        "id": "Fv3_xjz5BCCy"
      }
    },
    {
      "cell_type": "code",
      "source": [
        "df.axes"
      ],
      "metadata": {
        "colab": {
          "base_uri": "https://localhost:8080/"
        },
        "id": "nbaIm3BOAdZf",
        "outputId": "e52e0afc-4d9e-483c-bae9-6ba6c2ba0eae"
      },
      "execution_count": 11,
      "outputs": [
        {
          "output_type": "execute_result",
          "data": {
            "text/plain": [
              "[RangeIndex(start=0, stop=148654, step=1),\n",
              " Index(['Id', 'EmployeeName', 'JobTitle', 'BasePay', 'OvertimePay', 'OtherPay',\n",
              "        'Benefits', 'TotalPay', 'TotalPayBenefits', 'Year', 'Notes', 'Agency',\n",
              "        'Status'],\n",
              "       dtype='object')]"
            ]
          },
          "metadata": {},
          "execution_count": 11
        }
      ]
    }
  ]
}